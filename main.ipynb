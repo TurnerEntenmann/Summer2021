{
 "cells": [
  {
   "cell_type": "code",
   "execution_count": 1,
   "metadata": {},
   "outputs": [],
   "source": [
    "import matplotlib, csv, copy, os\n",
    "\n",
    "import pandas as pd\n",
    "import matplotlib.pyplot as plt\n",
    "import matplotlib.patches as patches\n",
    "import numpy as np\n",
    "\n",
    "from pandas import DataFrame, Series\n",
    "\n",
    "%matplotlib inline"
   ]
  },
  {
   "cell_type": "code",
   "execution_count": 2,
   "metadata": {},
   "outputs": [],
   "source": [
    "homeData = pd.read_csv('sample1Home.csv', low_memory=False)\n",
    "awayData = pd.read_csv('sample1Away.csv', low_memory=False)"
   ]
  },
  {
   "cell_type": "code",
   "execution_count": 3,
   "metadata": {},
   "outputs": [],
   "source": [
    "# https://www.kaggle.com/ajsteele/draw-soccer-pitch-with-matplotlib\n",
    "# x: [0, 120], y: [0, 90]\n",
    "def drawSoccerPitch(figsize=(12, 9), fieldColor = 'White', lineColor = 'k'):\n",
    "    \"\"\"\n",
    "    Function that plots a scaled soccer pitch of length 120*90 metres which \n",
    "    are the maximum dimensions allowed by FIFAs \"Laws Of The Game\"\n",
    "    \"\"\"\n",
    "    rect = patches.Rectangle((-1, -1), 122, 92, linewidth=0.1,\n",
    "                             edgecolor='r', facecolor=fieldColor, zorder=0)\n",
    "\n",
    "    fig, ax = plt.subplots(1, figsize=figsize)\n",
    "    ax.add_patch(rect)\n",
    "    # Main pitch markings, ie sidelines, penalty area and halfway line\n",
    "    plt.plot([0, 0,  0, 120, 120, 0,     0,  16.5,  16.5,     0,     0,   5.5,   5.5, \n",
    "                  0,  0, 60, 60, 120,   120, 103.5, 103.5,   120,   120, 114.5, 114.5,   120], \n",
    "             [0, 0, 90,  90,   0, 0, 25.85, 25.85, 66.15, 66.15, 55.15, 55.15, 36.85, \n",
    "              36.85, 90, 90,  0,   0, 25.85, 25.85, 66.15, 66.15, 55.15, 55.15, 36.85, 36.85], color=lineColor)\n",
    "    \n",
    "    # Secondary pitch markings, ie penalty spots, centre circle etc\n",
    "    plt.plot([11, 11.5],[45, 45], color=lineColor)\n",
    "    plt.plot([109, 108.5],[45, 45], color=lineColor)\n",
    "    \n",
    "    centre_circle = patches.Circle([60, 45], 9.15, edgecolor=lineColor, facecolor=fieldColor)\n",
    "    ax.add_patch(centre_circle)\n",
    "    \n",
    "    left_arc = patches.Arc([16.5, 45], 9.15, 16, theta1=270.0, theta2=90.0, color=lineColor)\n",
    "    ax.add_patch(left_arc)\n",
    "    right_arc = patches.Arc([103.5, 45], 9.15, 16, theta1=90.0, theta2=270.0, color=lineColor)\n",
    "    ax.add_patch(right_arc)\n",
    "    \n",
    "    bl_corner = patches.Arc([0, 0], 2.5, 2.5, theta1=0.0, theta2=90.0, color=lineColor)\n",
    "    tl_corner = patches.Arc([0, 90], 2.5, 2.5, theta1=270.0, color=lineColor)\n",
    "    br_corner = patches.Arc([120, 0], 2.5, 2.5, theta1=90.0, theta2=180.0, color=lineColor)\n",
    "    tr_corner = patches.Arc([120, 90], 2.5, 2.5, theta1=180.0, theta2=270.0,color=lineColor)\n",
    "    ax.add_patch(bl_corner)\n",
    "    ax.add_patch(tl_corner)\n",
    "    ax.add_patch(br_corner)\n",
    "    ax.add_patch(tr_corner)\n",
    "    \n",
    "    plt.xlim(-1, 121)\n",
    "    plt.ylim(-1, 91)\n",
    "    plt.axis('off')    \n",
    "\n",
    "    return fig, ax"
   ]
  },
  {
   "cell_type": "code",
   "execution_count": 4,
   "metadata": {},
   "outputs": [],
   "source": [
    "# fxn that makes the col names more readable and converts coordinates to meters\n",
    "def fixDF(df, h_a):\n",
    "    # storage for better column names, x and y coords\n",
    "    goodLabels = []\n",
    "    xLabels = []\n",
    "    yLabels = []\n",
    "\n",
    "    # indexer and previous string variable\n",
    "    i = 0\n",
    "    prevString = None\n",
    "    \n",
    "    # loop over row with col names\n",
    "    for val in df.loc[1]:\n",
    "        string = str(val)\n",
    "        # skip first three col names\n",
    "        if i <= 2:\n",
    "            goodLabels.append(string)\n",
    "        else:\n",
    "            # don't want ball coordinates to have home / away\n",
    "            if i <= 30: \n",
    "                string = h_a + ' ' + string\n",
    "            # check if coordinate should be x or y\n",
    "            if (i % 2) == 1:\n",
    "                prevString = string\n",
    "                string = string + ' x'\n",
    "                xLabels.append(string)\n",
    "            else:\n",
    "                string = prevString + ' y'\n",
    "                yLabels.append(string)\n",
    "            goodLabels.append(string)\n",
    "        i += 1\n",
    "    df.columns = goodLabels\n",
    "    \n",
    "    # coord cols as floats not strings\n",
    "    coords = df.loc[2:]\n",
    "    coords = coords.apply(pd.to_numeric)\n",
    "    \n",
    "    # make in units of meters\n",
    "    coords[xLabels] *= 120\n",
    "    coords[yLabels] *= 90\n",
    "    \n",
    "    return coords"
   ]
  },
  {
   "cell_type": "code",
   "execution_count": 5,
   "metadata": {},
   "outputs": [],
   "source": [
    "# get data into meters\n",
    "homeCoords = fixDF(homeData, 'H')\n",
    "awayCoords = fixDF(awayData, 'A')\n",
    "\n",
    "# generate list of player ids\n",
    "homePlayers = homeCoords.columns[3:-2]\n",
    "awayPlayers = awayCoords.columns[3:-2]\n",
    "\n",
    "homePlayerIDs = []\n",
    "for player in homePlayers:\n",
    "    homePlayerIDs.append(player[:-2])\n",
    "    \n",
    "awayPlayerIDs = []\n",
    "for player in awayPlayers:\n",
    "    awayPlayerIDs.append(player[:-2])"
   ]
  },
  {
   "cell_type": "code",
   "execution_count": 6,
   "metadata": {},
   "outputs": [],
   "source": [
    "def playerPos(player, df, frame):\n",
    "    xname = player + ' x'\n",
    "    yname = player + ' y'\n",
    "    return (df[[xname, yname]].iloc[frame][0], df[[xname, yname]].iloc[frame][1])\n",
    "\n",
    "def playerPosX(player, df, frame):\n",
    "    return playerPos(player, df, frame)[0]\n",
    "\n",
    "def playerPosY(player, df, frame):\n",
    "    return playerPos(player, df, frame)[1]"
   ]
  },
  {
   "cell_type": "code",
   "execution_count": 7,
   "metadata": {},
   "outputs": [],
   "source": [
    "def drawFrame(frame):\n",
    "    fig, ax = drawSoccerPitch(lineColor='0.5')\n",
    "\n",
    "    for player in homePlayerIDs:\n",
    "        plt.scatter(playerPosX(player, homeCoords, frame), playerPosY(player, homeCoords, frame), color='k', zorder=5)\n",
    "    \n",
    "    for player in awayPlayerIDs:\n",
    "        plt.scatter(playerPosX(player, awayCoords, frame), playerPosY(player, awayCoords, frame), color='red', zorder=5)\n",
    "        \n",
    "    plt.scatter(playerPosX('Ball', homeCoords, frame), playerPosY('Ball', homeCoords, frame), color='blue', zorder=4, marker='x', s=200)"
   ]
  },
  {
   "cell_type": "code",
   "execution_count": 10,
   "metadata": {},
   "outputs": [
    {
     "data": {
      "image/png": "[encoded data removed]",
      "text/plain": [
       "<Figure size 864x648 with 1 Axes>"
      ]
     },
     "metadata": {
      "needs_background": "light"
     },
     "output_type": "display_data"
    }
   ],
   "source": [
    "drawFrame(7000)"
   ]
  },
  {
   "cell_type": "code",
   "execution_count": null,
   "metadata": {},
   "outputs": [],
   "source": []
  }
 ],
 "metadata": {
  "kernelspec": {
   "display_name": "Python 3",
   "language": "python",
   "name": "python3"
  },
  "language_info": {
   "codemirror_mode": {
    "name": "ipython",
    "version": 3
   },
   "file_extension": ".py",
   "mimetype": "text/x-python",
   "name": "python",
   "nbconvert_exporter": "python",
   "pygments_lexer": "ipython3",
   "version": "3.8.5"
  }
 },
 "nbformat": 4,
 "nbformat_minor": 4
}
